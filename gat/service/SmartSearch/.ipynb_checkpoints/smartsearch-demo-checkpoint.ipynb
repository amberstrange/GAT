{
 "cells": [
  {
   "cell_type": "code",
   "execution_count": 1,
   "metadata": {
    "collapsed": true
   },
   "outputs": [],
   "source": [
    "from SEARCH_BING_MODULE import bingURL\n",
    "from SEARCH_YAHOO_MODULE import yahooURL\n",
    "from SVO_SENT_MODULE_spacy import SVOSENT\n",
    "import time"
   ]
  },
  {
   "cell_type": "code",
   "execution_count": 2,
   "metadata": {
    "collapsed": true
   },
   "outputs": [],
   "source": [
    "Subject='North Korean'\n",
    "CAMEO= 'threaten unconventional attack'\n",
    "Object=''\n",
    "sentence=Subject+' '+CAMEO+' '+Object # subject+cameo code"
   ]
  },
  {
   "cell_type": "code",
   "execution_count": 3,
   "metadata": {},
   "outputs": [
    {
     "name": "stdout",
     "output_type": "stream",
     "text": [
      "time cost: 21.104074239730835\n",
      "#urls found: 62\n"
     ]
    }
   ],
   "source": [
    "bing=bingURL()\n",
    "t0=time.time()\n",
    "urls=bing.search_urls(sentence,3)\n",
    "t1=time.time()\n",
    "print('time cost:',t1-t0)\n",
    "print('#urls found:',len(urls))"
   ]
  },
  {
   "cell_type": "code",
   "execution_count": null,
   "metadata": {
    "scrolled": false
   },
   "outputs": [
    {
     "name": "stdout",
     "output_type": "stream",
     "text": [
      "The article: North Korea Attack on US Power Grid Threatened is downloaded and parsed\n",
      "The article: Balloon propaganda campaigns in Korea is downloaded and parsed\n",
      "The article: North Korea Threatens 'Merciless Attack' As U.S. and South Korea Conduct Drills is downloaded and parsed\n",
      "The article: Balloon propaganda campaigns in Korea is downloaded and parsed\n",
      "The article: Balloon propaganda campaigns in Korea is downloaded and parsed\n",
      "The article: Pentagon chief: North Korea nuclear attack threat accelerating is downloaded and parsed\n",
      "The article: North Korea threaten World War 3 with terrifying PLAGUE, ANTHRAX and SMALLPOX weapons is downloaded and parsed\n",
      "The article: North Korea – US defector's sons born in rogue state threaten to 'WIPE OUT' America is downloaded and parsed\n",
      "The article: Why Guam Is Important Enough To Be In North Korea's Crosshairs is downloaded and parsed\n",
      "The article: We Can Stop North Korea From Attacking Us. All We Have to Do Is Not Attack Them. is downloaded and parsed\n",
      "The article: North Korea's Plenty Scary Without an Overhyped EMP Threat is downloaded and parsed\n",
      "The article: Balloon propaganda campaigns in Korea is downloaded and parsed\n",
      "The article: Balloon propaganda campaigns in Korea is downloaded and parsed\n",
      "The article: Donald Trump threatens North Korea with 'fire and fury', prompting threat to attack Guam is downloaded and parsed\n",
      "The article: Balloon propaganda campaigns in Korea is downloaded and parsed\n",
      "The article: North Korean Military Threatens to Attack Guam is downloaded and parsed\n",
      "The article: North Korea attack threat accelerates as Kim Jong un warned of nuclear attack is downloaded and parsed\n",
      "The article: North Korea is downloaded and parsed\n",
      "The article: North Korea threatens missile strike on Guam that will create an 'enveloping fire' is downloaded and parsed\n",
      "The article: War of Words: North Korea Threatens Nuclear Attack on U.S. Mainland is downloaded and parsed\n",
      "The article: North Korea threatens to attack Guam is downloaded and parsed\n",
      "The article: North Korea and the Threat of Chemical Warfare is downloaded and parsed\n",
      "The article: Mattis: North Korea nuclear threat accelerating is downloaded and parsed\n",
      "The article: Tillerson sees no 'imminent threat' of North Korea attack; defends Trump's blunt talk is downloaded and parsed\n",
      "The article: North Korea threatens Guam, Hawaii, rest of U.S. is downloaded and parsed\n",
      "The article: Can North Korea threaten U.S.? Not really is downloaded and parsed\n",
      "The article: Why Guam Is Important Enough To Be In North Korea's Crosshairs is downloaded and parsed\n",
      "The article: North Korea – US defector's sons born in rogue state threaten to 'WIPE OUT' America is downloaded and parsed\n",
      "The article: CIA: North Korean leader Kim Jong Un isn't crazy is downloaded and parsed\n",
      "The article: Latest News Wires - The Christian Science Monitor is downloaded and parsed\n",
      "The article: North Korea Threatens Japan with Attack is downloaded and parsed\n",
      "The article: How North Korea Would Retaliate is downloaded and parsed\n",
      "The article: North Korea’s new ICBMs change little about threat to the US is downloaded and parsed\n",
      "The article: Guam governor warns North Korea after threats of attack is downloaded and parsed\n",
      "The article: USA - The Christian Science Monitor is downloaded and parsed\n",
      "The article: James Mattis: North Korea Has 'Accelerated' Threat of Nuclear Attack is downloaded and parsed\n",
      "The article: As North Korean threat grows, Hawaii prepares for nuclear attack – LA Times is downloaded and parsed\n",
      "The article: War of Words: North Korea Threatens Nuclear Attack on U.S. Mainland is downloaded and parsed\n",
      "The article: North Korean EMP Attack Would Cause Mass U.S. Starvation, Says Congressional Report is downloaded and parsed\n",
      "The article: North Korea Threatens Nuclear Strike if U.S. Attacks is downloaded and parsed\n",
      "The article: North Korea Threatens To Target “Liberal-Governed” Cities In Nuclear Attack is downloaded and parsed\n",
      "The article: North Korea Threatens an Electromagnetic Pulse Attack is downloaded and parsed\n",
      "The article: Mattis: threat of North Korea nuclear attack 'is accelerating' is downloaded and parsed\n",
      "The article: North Korea has threatened a U.S. attack for years. Why aren’t you scared? is downloaded and parsed\n",
      "The article: Charlie Dent: Kim Jong Un won't take actions that threaten his regime is downloaded and parsed\n",
      "The article: The Guardian is downloaded and parsed\n",
      "The article: How a North Korean attack could play out: Analysts is downloaded and parsed\n",
      "The article: First Fire, Then Fury, Now North Korea Threatens Missile Attack on U.S. Military Base in Guam is downloaded and parsed\n",
      "The article: World news and comment from the Guardian is downloaded and parsed\n",
      "The article: North Korea threatens ‘merciless strike’ on US is downloaded and parsed\n",
      "The article: North Korea’s new ICBMs change little about threat to the US is downloaded and parsed\n",
      "The article: North Korea Threatens To Attack U.S. If Obama Retaliates Over Sony Hacking is downloaded and parsed\n",
      "The article: Ransomware Attack: North Korea Hackers Capable is downloaded and parsed\n",
      "The article: How A North Korean EMP attack could cripple America is downloaded and parsed\n",
      "The article: North Korea Attack on US Power Grid Threatened is downloaded and parsed\n",
      "The article: North Korea threatens to attack Guam with \"enveloping fire\": state-run media is downloaded and parsed\n",
      "The article: North Korea Threatens Nuclear Attack as U.S. and South Korea Begin Drills is downloaded and parsed\n",
      "The article: Charlie Dent: Kim Jong Un won't take actions that threaten his regime is downloaded and parsed\n",
      "The article: North Korea threatens strike on Guam is downloaded and parsed\n",
      "The article: North Korea threatens to attack U.S. is downloaded and parsed\n",
      "The article: Trump Threats Are Wild Card in Showdown With North Korea is downloaded and parsed\n",
      "The article: Did North Korea Threaten to ‘Nuke’ U.S. ‘If Even a Single Bullet Is Fired’? is downloaded and parsed\n",
      "cost time: 57.1071457862854\n"
     ]
    }
   ],
   "source": [
    "import SCRAPER\n",
    "articles=SCRAPER.scrape_from_urls(urls)"
   ]
  },
  {
   "cell_type": "code",
   "execution_count": null,
   "metadata": {
    "scrolled": false
   },
   "outputs": [],
   "source": [
    "svo_sent = SVOSENT()\n",
    "articles_list=svo_sent.split_and_clean(articles)\n",
    "result=svo_sent.batchProcessArticles(articles_list)\n",
    "\n",
    "#svo_sent.WriteCSV(results,'corpus4_full_dataset')"
   ]
  },
  {
   "cell_type": "code",
   "execution_count": null,
   "metadata": {
    "scrolled": false
   },
   "outputs": [],
   "source": [
    "result"
   ]
  },
  {
   "cell_type": "code",
   "execution_count": null,
   "metadata": {
    "collapsed": true
   },
   "outputs": [],
   "source": []
  }
 ],
 "metadata": {
  "kernelspec": {
   "display_name": "Python 3",
   "language": "python",
   "name": "python3"
  },
  "language_info": {
   "codemirror_mode": {
    "name": "ipython",
    "version": 3
   },
   "file_extension": ".py",
   "mimetype": "text/x-python",
   "name": "python",
   "nbconvert_exporter": "python",
   "pygments_lexer": "ipython3",
   "version": "3.6.2"
  }
 },
 "nbformat": 4,
 "nbformat_minor": 2
}
